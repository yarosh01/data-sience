{
 "cells": [
  {
   "cell_type": "code",
   "execution_count": 1,
   "metadata": {},
   "outputs": [
    {
     "name": "stdin",
     "output_type": "stream",
     "text": [
      " 1 2 3 4\n"
     ]
    },
    {
     "name": "stdout",
     "output_type": "stream",
     "text": [
      "[[0. 0.]]\n"
     ]
    }
   ],
   "source": [
    "import numpy as np\n",
    "mylist = input().split()\n",
    "m = np.array(mylist, dtype=int)\n",
    "x = np.ones((m[0],m[1]))\n",
    "x[::m[2], :m[1]] = 0\n",
    "x[:m[0], ::m[3]] = 0\n",
    "print(x)"
   ]
  },
  {
   "cell_type": "code",
   "execution_count": 2,
   "metadata": {},
   "outputs": [
    {
     "name": "stdin",
     "output_type": "stream",
     "text": [
      " 3 1\n"
     ]
    },
    {
     "name": "stdout",
     "output_type": "stream",
     "text": [
      "[[0. 1. 2.]]\n"
     ]
    }
   ],
   "source": [
    "import numpy as np\n",
    "mylist = input().split()\n",
    "m = np.array(mylist, dtype=int)\n",
    "x = np.zeros((m[1], m[0]))\n",
    "x[::m[1]] = np.arange(0, m[0])\n",
    "print(x)\n"
   ]
  },
  {
   "cell_type": "code",
   "execution_count": 4,
   "metadata": {},
   "outputs": [
    {
     "name": "stdin",
     "output_type": "stream",
     "text": [
      "n: 5\n"
     ]
    },
    {
     "name": "stdout",
     "output_type": "stream",
     "text": [
      "[[1. 1. 1. 1. 1.]\n",
      " [0. 0. 0. 0. 0.]\n",
      " [1. 1. 1. 1. 1.]\n",
      " [0. 0. 0. 0. 0.]\n",
      " [1. 1. 1. 1. 1.]]\n"
     ]
    }
   ],
   "source": [
    "import numpy as np\n",
    "n = int(input('n:'))\n",
    "x = np.zeros((n, n))\n",
    "x[::2, :n] = 1\n",
    "print(x)\n"
   ]
  },
  {
   "cell_type": "code",
   "execution_count": 5,
   "metadata": {},
   "outputs": [
    {
     "name": "stdin",
     "output_type": "stream",
     "text": [
      "n: 1 2 3\n"
     ]
    },
    {
     "name": "stdout",
     "output_type": "stream",
     "text": [
      "[-1 -1 -1]\n"
     ]
    }
   ],
   "source": [
    "import numpy as np\n",
    "mylist = input(\"n:\").split()\n",
    "x = np.array(mylist, dtype=int)\n",
    "x = np.where(x != 0, -1, x)\n",
    "print(x)\n"
   ]
  },
  {
   "cell_type": "code",
   "execution_count": 6,
   "metadata": {},
   "outputs": [
    {
     "name": "stdin",
     "output_type": "stream",
     "text": [
      "n: 1 2 3\n"
     ]
    },
    {
     "name": "stdout",
     "output_type": "stream",
     "text": [
      "[1 2 3]\n"
     ]
    }
   ],
   "source": [
    "import numpy as np\n",
    "mylist = input(\"n:\").split()\n",
    "x = np.array(mylist, dtype=int)\n",
    "x = np.where(x == 0, -1, x)\n",
    "print(x)\n"
   ]
  },
  {
   "cell_type": "code",
   "execution_count": 7,
   "metadata": {},
   "outputs": [
    {
     "name": "stdin",
     "output_type": "stream",
     "text": [
      "n: 0 1 2 3 0\n"
     ]
    },
    {
     "name": "stdout",
     "output_type": "stream",
     "text": [
      "Нулів:2\n",
      "Не нулів:3\n"
     ]
    }
   ],
   "source": [
    "import numpy as np\n",
    "mylist = input(\"n:\").split()\n",
    "x = np.array(mylist, dtype=int)\n",
    "count = np.count_nonzero(x == 0)\n",
    "print(\"Нулів:{0}\".format(count))\n",
    "print(\"Не нулів:{0}\".format(x.size - count))\n"
   ]
  },
  {
   "cell_type": "code",
   "execution_count": 8,
   "metadata": {},
   "outputs": [
    {
     "name": "stdin",
     "output_type": "stream",
     "text": [
      "n: 10\n"
     ]
    },
    {
     "name": "stdout",
     "output_type": "stream",
     "text": [
      "[10  9  8  7  6  5  4  3  2  1  0]\n"
     ]
    }
   ],
   "source": [
    "import numpy as np\n",
    "n = int(input('n:'))\n",
    "x = np.arange(n, -1, -1)\n",
    "print(x)\n"
   ]
  },
  {
   "cell_type": "code",
   "execution_count": 9,
   "metadata": {},
   "outputs": [
    {
     "name": "stdout",
     "output_type": "stream",
     "text": [
      "В матриці 4х5х6 індексом 100 елементу є ([3],[1],[3])\n"
     ]
    }
   ],
   "source": [
    "import numpy as np\n",
    "x = np.arange(1, 121)\n",
    "x.resize((4, 5, 6))\n",
    "i, j, k = np.where(x == 100)\n",
    "print(\"В матриці 4х5х6 індексом 100 елементу є ({0},{1},{2})\".format(i, j, k))\n"
   ]
  },
  {
   "cell_type": "code",
   "execution_count": 10,
   "metadata": {},
   "outputs": [
    {
     "name": "stdin",
     "output_type": "stream",
     "text": [
      "n: 10\n"
     ]
    },
    {
     "name": "stdout",
     "output_type": "stream",
     "text": [
      "[ 0  1  2  3  4  5  0  0  8  9 10]\n"
     ]
    }
   ],
   "source": [
    "import numpy as np\n",
    "n = int(input('n:'))\n",
    "x = np.arange(0, n + 1)\n",
    "# x=np.greater(x,n/2) & np.less(x,(3*n)/4)\n",
    "x[(x>(n/2)) & (x<((3*n)/4))]=0\n",
    "# x = np.where((x > (n / 2)) & (x < ((3 * n) / 4)), 0, x)\n",
    "print(x)\n",
    "\n"
   ]
  },
  {
   "cell_type": "code",
   "execution_count": 11,
   "metadata": {},
   "outputs": [
    {
     "name": "stdin",
     "output_type": "stream",
     "text": [
      "n: 30\n"
     ]
    },
    {
     "name": "stdout",
     "output_type": "stream",
     "text": [
      "[57 18 22 93 93  0 16  3 30 47 64 40 29 14 85 19 35 50 40 25 38 15 89 73\n",
      " 73 66 27  0 49 98]\n",
      "Количество уникальніх елементов: 26\n"
     ]
    }
   ],
   "source": [
    "import numpy as np\n",
    "n = int(input('n:'))\n",
    "x = np.random.randint(0, 99, n)\n",
    "elem = np.unique(x)\n",
    "size = np.size(elem)\n",
    "print(x)\n",
    "print('Количество уникальніх елементов: {0}'.format(size))"
   ]
  },
  {
   "cell_type": "code",
   "execution_count": 3,
   "metadata": {},
   "outputs": [
    {
     "name": "stdout",
     "output_type": "stream",
     "text": [
      "[ 3. -4. -1.  1.]\n",
      "27.0\n",
      "[2.9999999999999982, -4.000000000000001, -1.0000000000000004, 1.0000000000000004]\n"
     ]
    }
   ],
   "source": [
    "# второе задание\n",
    "import numpy as np\n",
    "myarray=np.array([[2,1,-5,1],[1,-3,0,-6],[0,2,-1,2],[1,4,-7,6]],dtype=float)\n",
    "endarray=np.array([8,9,-5,0],dtype=float)\n",
    "result=np.linalg.solve(myarray,endarray)\n",
    "print(result)\n",
    "A=np.linalg.det(myarray)\n",
    "print(A)\n",
    "a1=np.array(myarray,dtype=float)\n",
    "a1[:,0]=endarray\n",
    "A1=np.linalg.det(a1)\n",
    "a2=np.array(myarray,dtype=float)\n",
    "a2[:,1]=endarray\n",
    "A2=np.linalg.det(a2)\n",
    "a3=np.array(myarray,dtype=float)\n",
    "a3[:,2]=endarray\n",
    "A3=np.linalg.det(a3)\n",
    "a4=np.array(myarray,dtype=float)\n",
    "a4[:,3]=endarray\n",
    "A4=np.linalg.det(a4)\n",
    "myList=[A1/A,A2/A,A3/A,A4/A]\n",
    "print(myList)\n"
   ]
  },
  {
   "cell_type": "code",
   "execution_count": 14,
   "metadata": {},
   "outputs": [
    {
     "name": "stdout",
     "output_type": "stream",
     "text": [
      "-36.0\n",
      "-156.0\n",
      "5700.0\n",
      "False\n"
     ]
    }
   ],
   "source": [
    "# 3 задание\n",
    "import numpy as np\n",
    "a=np.array([[5,3,-1],[2,-2,0],[3,-1,2]])\n",
    "b=np.array([[1,4,16],[-3,-2,0],[5,7,2]])\n",
    "A=np.linalg.det(a)\n",
    "B=np.linalg.det(b)\n",
    "print(A)\n",
    "print(B)\n",
    "result=2*(A-0.5*B)+A*B\n",
    "print(result)\n",
    "print(np.allclose(myList,result))\n"
   ]
  },
  {
   "cell_type": "code",
   "execution_count": 15,
   "metadata": {},
   "outputs": [
    {
     "name": "stdout",
     "output_type": "stream",
     "text": [
      "[[ 1.         -1.12903226  0.        ]\n",
      " [-1.          1.80645161  1.        ]\n",
      " [ 0.          0.90322581  0.        ]]\n",
      "[[ 1.00000000e+00 -1.12903226e+00  0.00000000e+00]\n",
      " [-1.00000000e+00  1.80645161e+00  1.00000000e+00]\n",
      " [-5.55111512e-17  9.03225806e-01 -5.55111512e-17]]\n",
      "True\n"
     ]
    }
   ],
   "source": [
    "# 4 задание\n",
    "import numpy as np\n",
    "A=np.array([[4,2,1],[3,-2,0],[0,-1,2]],dtype=float)\n",
    "B=np.array([[2,0,2],[5,-7,-2],[1,0,-1]],dtype=float)\n",
    "res=np.linalg.solve(A,B)\n",
    "print(res)\n",
    "Aminus=np.linalg.inv(A)##ну надо найти обратную матрицу\n",
    "res2=np.dot(Aminus,B)##результат вроде как должен быть по формуле x=A^(-1)*B\n",
    "print(res2)\n",
    "print(np.allclose(res,res2))\n"
   ]
  },
  {
   "cell_type": "code",
   "execution_count": 18,
   "metadata": {},
   "outputs": [
    {
     "name": "stdout",
     "output_type": "stream",
     "text": [
      "[ 3. -4. -1.  1.]\n",
      "27.0\n",
      "2.9999999999999982\n",
      "0.0\n",
      "0.0\n",
      "0.0\n"
     ]
    }
   ],
   "source": [
    "# второе задание\n",
    "import numpy as np\n",
    "myarray=np.array([[2,1,-5,1],[1,-3,0,-6],[0,2,-1,2],[1,4,-7,6]],dtype=float)\n",
    "endarray=np.array([8,9,-5,0],dtype=float)\n",
    "result=np.linalg.solve(myarray,endarray)\n",
    "print(result)\n",
    "A=np.linalg.det(myarray)\n",
    "print(A)\n",
    "\n",
    "a1=np.array(myarray,dtype=float)\n",
    "for i in range(len(myarray)):\n",
    "    a1[:,i]=endarray\n",
    "    A1=np.linalg.det(a1)\n",
    "    myList = A1/A\n",
    "    print(myList)  \n",
    "\n",
    "# a1[:,0]=endarray\n",
    "# A1=np.linalg.det(a1)\n",
    "# a2=np.array(myarray,dtype=float)\n",
    "# a2[:,1]=endarray\n",
    "# A2=np.linalg.det(a2)\n",
    "# a3=np.array(myarray,dtype=float)\n",
    "# a3[:,2]=endarray\n",
    "# A3=np.linalg.det(a3)\n",
    "# a4=np.array(myarray,dtype=float)\n",
    "# a4[:,3]=endarray\n",
    "# A4=np.linalg.det(a4)\n",
    "# myList=[A1/A,A2/A,A3/A,A4/A]\n",
    "# print(myList)\n"
   ]
  },
  {
   "cell_type": "code",
   "execution_count": null,
   "metadata": {},
   "outputs": [],
   "source": []
  },
  {
   "cell_type": "code",
   "execution_count": null,
   "metadata": {},
   "outputs": [],
   "source": []
  },
  {
   "cell_type": "code",
   "execution_count": null,
   "metadata": {},
   "outputs": [],
   "source": []
  }
 ],
 "metadata": {
  "kernelspec": {
   "display_name": "Python 3",
   "language": "python",
   "name": "python3"
  },
  "language_info": {
   "codemirror_mode": {
    "name": "ipython",
    "version": 3
   },
   "file_extension": ".py",
   "mimetype": "text/x-python",
   "name": "python",
   "nbconvert_exporter": "python",
   "pygments_lexer": "ipython3",
   "version": "3.8.3"
  }
 },
 "nbformat": 4,
 "nbformat_minor": 4
}
